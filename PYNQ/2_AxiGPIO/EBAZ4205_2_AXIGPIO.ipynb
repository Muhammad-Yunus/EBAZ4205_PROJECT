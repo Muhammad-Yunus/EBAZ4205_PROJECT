{
 "cells": [
  {
   "cell_type": "code",
   "execution_count": null,
   "metadata": {},
   "outputs": [],
   "source": [
    "from pynq import Overlay\n",
    "from pynq.lib import AxiGPIO\n",
    "import time"
   ]
  },
  {
   "cell_type": "code",
   "execution_count": null,
   "metadata": {},
   "outputs": [],
   "source": [
    "gpio = Overlay('/home/xilinx/pynq/overlays/EBAZ4205_2_AXIGPIO.overlay/EBAZ4205_2_AXIGPIO.bit')"
   ]
  },
  {
   "cell_type": "code",
   "execution_count": null,
   "metadata": {},
   "outputs": [],
   "source": [
    "gpio?"
   ]
  },
  {
   "cell_type": "markdown",
   "metadata": {},
   "source": [
    "### 1. On-board LED"
   ]
  },
  {
   "cell_type": "code",
   "execution_count": null,
   "metadata": {},
   "outputs": [],
   "source": [
    "# on-board led is active low\n",
    "\n",
    "led_instance = gpio.ip_dict[\"gpio_leds\"]\n",
    "leds = AxiGPIO(led_instance).channel1"
   ]
  },
  {
   "cell_type": "code",
   "execution_count": null,
   "metadata": {},
   "outputs": [],
   "source": [
    "leds[0:2].write(0b11) # turn off all"
   ]
  },
  {
   "cell_type": "code",
   "execution_count": null,
   "metadata": {},
   "outputs": [],
   "source": [
    "leds[0:2].write(0b00) # turn on all"
   ]
  },
  {
   "cell_type": "code",
   "execution_count": null,
   "metadata": {},
   "outputs": [],
   "source": [
    "# running 2 led\n",
    "\n",
    "i = 0\n",
    "while i < 200:\n",
    "    j = i % 4\n",
    "    if j < 3:\n",
    "        value = 0b11 >> j      # shift right for fading out\n",
    "    else:\n",
    "        value = 0b11 >> (3 - j)  # reverse pattern after reaching 00\n",
    "    leds[0:2].write(value)\n",
    "    time.sleep(0.25)\n",
    "    i += 1"
   ]
  },
  {
   "cell_type": "markdown",
   "metadata": {},
   "source": [
    "### 2. GPIO"
   ]
  },
  {
   "cell_type": "code",
   "execution_count": null,
   "metadata": {},
   "outputs": [],
   "source": [
    "gpio_data1_instance = gpio.ip_dict[\"gpio_data1\"]\n",
    "gpio_data1 = AxiGPIO(gpio_data1_instance).channel1\n",
    "gpio_data1.setdirection('inout')"
   ]
  },
  {
   "cell_type": "code",
   "execution_count": null,
   "metadata": {},
   "outputs": [],
   "source": [
    "gpio_data1[0:4].write(0b1111) # turn first 4 gpio_data1 output to HIGH"
   ]
  },
  {
   "cell_type": "code",
   "execution_count": null,
   "metadata": {},
   "outputs": [],
   "source": [
    "gpio_data1[0:4].write(0b0000) # turn first 4 gpio_data1 output to LOW"
   ]
  },
  {
   "cell_type": "code",
   "execution_count": null,
   "metadata": {},
   "outputs": [],
   "source": [
    "# running 4 gpio control\n",
    "\n",
    "i = 0\n",
    "while i < 10000 :\n",
    "    j = i % 8\n",
    "    if j < 5:\n",
    "        value = 0b1111 >> j  # This shifts the bits to the right\n",
    "    else:\n",
    "        value = 0b1111 >> (7 - j) # This reverses the pattern after 0000\n",
    "    gpio_data1[0:4].write(value) \n",
    "    time.sleep(0.125)\n",
    "    i += 1"
   ]
  },
  {
   "cell_type": "code",
   "execution_count": null,
   "metadata": {},
   "outputs": [],
   "source": []
  }
 ],
 "metadata": {
  "kernelspec": {
   "display_name": "Python 3",
   "language": "python",
   "name": "python3"
  },
  "language_info": {
   "codemirror_mode": {
    "name": "ipython",
    "version": 3
   },
   "file_extension": ".py",
   "mimetype": "text/x-python",
   "name": "python",
   "nbconvert_exporter": "python",
   "pygments_lexer": "ipython3",
   "version": "3.6.5"
  }
 },
 "nbformat": 4,
 "nbformat_minor": 2
}
